{
 "cells": [
  {
   "cell_type": "markdown",
   "metadata": {},
   "source": [
    "<h1 align=center><font size = 5><em>Meta</em> Data Scraper</font></h1>"
   ]
  },
  {
   "cell_type": "markdown",
   "metadata": {},
   "source": [
    "## Introduction\n",
    "\n",
    "This notebook contains the code to scrape meta data for each of the restaurant listed in zomato. The meta data includes the Zomato URL, Restaurant Address, and the Name of restaurant. The file *Data extractor for each restaurant* contains the code to extract details of each of the restaurant."
   ]
  },
  {
   "cell_type": "code",
   "execution_count": null,
   "metadata": {
    "collapsed": true
   },
   "outputs": [],
   "source": [
    "# Lets import all the libraries\n",
    "import pandas as pd\n",
    "from selenium import webdriver\n",
    "chrome_path = r\"C:\\Users\\Himanshu Poddar\\Desktop\\chromedriver.exe\""
   ]
  },
  {
   "cell_type": "markdown",
   "metadata": {},
   "source": [
    "# Data scraping for each neighborhood"
   ]
  },
  {
   "cell_type": "markdown",
   "metadata": {},
   "source": [
    "The data for each of the neighborhood listed on the zomato website are scraped separately. Just enter the url of the neighborhood in url"
   ]
  },
  {
   "cell_type": "code",
   "execution_count": null,
   "metadata": {
    "collapsed": true
   },
   "outputs": [],
   "source": [
    "# Url for each neighborhood\n",
    "url = \"https://www.zomato.com/bangalore/frazer-town-restaurants\" \n",
    "# neighborhood\n",
    "city = \"frazer_town_\""
   ]
  },
  {
   "cell_type": "markdown",
   "metadata": {},
   "source": [
    "#### Initialise the web driver"
   ]
  },
  {
   "cell_type": "code",
   "execution_count": null,
   "metadata": {},
   "outputs": [],
   "source": [
    "wd = webdriver.Chrome(chrome_path)\n",
    "wd.get(url)"
   ]
  },
  {
   "cell_type": "markdown",
   "metadata": {},
   "source": [
    "#### Types of restaurants in that city"
   ]
  },
  {
   "cell_type": "code",
   "execution_count": null,
   "metadata": {
    "collapsed": true
   },
   "outputs": [],
   "source": [
    "rest_types = wd.find_element_by_xpath('//div[@class=\"ui vertical pointing menu subzone_category_container\"]')\n",
    "rest_types = rest_types.text.split(\"\\n\")\n",
    "print(rest_types)\n",
    "wd.quit()"
   ]
  },
  {
   "cell_type": "code",
   "execution_count": null,
   "metadata": {
    "collapsed": true
   },
   "outputs": [],
   "source": [
    "# This function returns all the buttons for navigating each category\n",
    "def rest_types_buttons():\n",
    "    buttons = wd.find_elements_by_xpath('//span[@class=\"zred\"]')\n",
    "    return buttons"
   ]
  },
  {
   "cell_type": "code",
   "execution_count": null,
   "metadata": {
    "collapsed": true
   },
   "outputs": [],
   "source": [
    "# This function returns the link, name and address of restaurant for each page\n",
    "def name_link_add():\n",
    "    rest_link = []\n",
    "    rest_name = []\n",
    "    restaurants = wd.find_elements_by_xpath('//a[@class=\"result-title hover_feedback zred bold ln24   fontsize0 \"]')\n",
    "    for name in restaurants:\n",
    "        rest_link.append(name.get_attribute('href'))\n",
    "        rest_name.append(name.text)\n",
    "    restaurants_address =  wd.find_elements_by_xpath('//div[@class=\"col-m-16 search-result-address grey-text nowrap ln22\"]')\n",
    "    rest_address = []\n",
    "    for rest_add in restaurants_address:\n",
    "        rest_address.append(rest_add.text)\n",
    "    return rest_link, rest_name, rest_address"
   ]
  },
  {
   "cell_type": "code",
   "execution_count": null,
   "metadata": {
    "collapsed": true
   },
   "outputs": [],
   "source": [
    "# this function returns the all the data from an individual category (all pages combined)\n",
    "def get_data_rest_type(rest_type):\n",
    "    try:\n",
    "        prev_link,prev_name,prev_add = None, None, None\n",
    "        rest_link, rest_name, rest_address = name_link_add()\n",
    "        link = []\n",
    "        name = []\n",
    "        address = []\n",
    "        while(prev_link != rest_link):\n",
    "            prev_link,prev_name,prev_add = rest_link, rest_name, rest_address\n",
    "            link = link + prev_link\n",
    "            name = name + prev_name\n",
    "            address = address + prev_add\n",
    "            next_page_button = wd.find_element_by_xpath('//i[@class=\"right angle icon\"]')\n",
    "            next_page_button.click()\n",
    "            wd.switch_to_window(wd.window_handles[0])\n",
    "            rest_link, rest_name, rest_address = name_link_add()\n",
    "            # Below two if conditions are for debugging\n",
    "            if((len(rest_address) == len(rest_link) == len(rest_name)) == False):\n",
    "                print(\"need to see, name link address mismatch\")\n",
    "                break\n",
    "            if(len(rest_name) == 0):\n",
    "                print(\"Empty found\")\n",
    "    except:\n",
    "        print(\"unknown error\")\n",
    "    return link, name, address\n",
    "    "
   ]
  },
  {
   "cell_type": "markdown",
   "metadata": {},
   "source": [
    "#### There are approx 6-7 category of restaurant for each of the restaurant. Lets scrape them individually. Since it will be easier to debug."
   ]
  },
  {
   "cell_type": "markdown",
   "metadata": {},
   "source": [
    "#### 0th Category"
   ]
  },
  {
   "cell_type": "code",
   "execution_count": null,
   "metadata": {},
   "outputs": [],
   "source": [
    "# For each of the category\n",
    "type_ = (\"_\".join(rest_types[0].lower().split(' ')))\n",
    "print(type_)"
   ]
  },
  {
   "cell_type": "code",
   "execution_count": null,
   "metadata": {
    "collapsed": true
   },
   "outputs": [],
   "source": [
    "# Go inside the category by clicking on the button on the main page\n",
    "wd = webdriver.Chrome(chrome_path)\n",
    "wd.get(url)\n",
    "wd.switch_to_window(wd.window_handles[0])\n",
    "buttons = rest_types_buttons()\n",
    "buttons[0].click()\n",
    "wd.switch_to_window(wd.window_handles[0])"
   ]
  },
  {
   "cell_type": "code",
   "execution_count": null,
   "metadata": {
    "collapsed": true
   },
   "outputs": [],
   "source": [
    "# Collect the data\n",
    "data_rest_type = get_data_rest_type(type)"
   ]
  },
  {
   "cell_type": "code",
   "execution_count": null,
   "metadata": {
    "collapsed": true
   },
   "outputs": [],
   "source": [
    "# Forma dataframe\n",
    "add = pd.DataFrame({'link' : data_rest_type[0], 'name' : data_rest_type[1], 'address' : data_rest_type[2]} )"
   ]
  },
  {
   "cell_type": "code",
   "execution_count": null,
   "metadata": {
    "collapsed": true
   },
   "outputs": [],
   "source": [
    "# save the file in csv format\n",
    "filename = city + type_ + \"_.csv\"\n",
    "add.to_csv(filename, index=False, columns = ['link', 'address', 'name'])"
   ]
  },
  {
   "cell_type": "code",
   "execution_count": null,
   "metadata": {},
   "outputs": [],
   "source": [
    "# Lets verify our file name\n",
    "filename"
   ]
  },
  {
   "cell_type": "markdown",
   "metadata": {},
   "source": [
    "The code remains same for all other category below only the file name changes. It was easier to separate out the code all the categories. Since it made it easier to debug"
   ]
  },
  {
   "cell_type": "markdown",
   "metadata": {},
   "source": [
    "#### 1st Category"
   ]
  },
  {
   "cell_type": "code",
   "execution_count": 483,
   "metadata": {},
   "outputs": [
    {
     "name": "stdout",
     "output_type": "stream",
     "text": [
      "dine-out_restaurants\n"
     ]
    }
   ],
   "source": [
    "type_ = (\"_\".join(rest_types[1].lower().split(' ')))\n",
    "print(type_)"
   ]
  },
  {
   "cell_type": "code",
   "execution_count": null,
   "metadata": {
    "collapsed": true
   },
   "outputs": [],
   "source": [
    "wd = webdriver.Chrome(chrome_path)\n",
    "wd.get(url)\n",
    "wd.switch_to_window(wd.window_handles[0])\n",
    "buttons = rest_types_buttons()\n",
    "buttons[1].click()\n",
    "wd.switch_to_window(wd.window_handles[0])"
   ]
  },
  {
   "cell_type": "code",
   "execution_count": null,
   "metadata": {
    "collapsed": true
   },
   "outputs": [],
   "source": [
    "data_rest_type = get_data_rest_type(type_)"
   ]
  },
  {
   "cell_type": "code",
   "execution_count": null,
   "metadata": {
    "collapsed": true
   },
   "outputs": [],
   "source": [
    "add = pd.DataFrame({'link' : data_rest_type[0], 'name' : data_rest_type[1], 'address' : data_rest_type[2]} )"
   ]
  },
  {
   "cell_type": "code",
   "execution_count": null,
   "metadata": {
    "collapsed": true
   },
   "outputs": [],
   "source": [
    "filename = city + type_ + \"_.csv\"\n",
    "add.to_csv(filename, index=False, columns = ['link', 'address', 'name'])"
   ]
  },
  {
   "cell_type": "code",
   "execution_count": null,
   "metadata": {
    "collapsed": true
   },
   "outputs": [],
   "source": [
    "filename"
   ]
  },
  {
   "cell_type": "markdown",
   "metadata": {},
   "source": [
    "#### 2nd Category"
   ]
  },
  {
   "cell_type": "code",
   "execution_count": null,
   "metadata": {
    "collapsed": true
   },
   "outputs": [],
   "source": [
    "type_ = (\"_\".join(rest_types[2].lower().split(' ')))\n",
    "print(type_)"
   ]
  },
  {
   "cell_type": "code",
   "execution_count": null,
   "metadata": {
    "collapsed": true
   },
   "outputs": [],
   "source": [
    "wd = webdriver.Chrome(chrome_path)\n",
    "wd.get(url)\n",
    "wd.switch_to_window(wd.window_handles[0])\n",
    "buttons = rest_types_buttons()\n",
    "buttons[2].click()\n",
    "wd.switch_to_window(wd.window_handles[0])"
   ]
  },
  {
   "cell_type": "code",
   "execution_count": null,
   "metadata": {
    "collapsed": true
   },
   "outputs": [],
   "source": [
    "data_rest_type = get_data_rest_type(type_)"
   ]
  },
  {
   "cell_type": "code",
   "execution_count": null,
   "metadata": {
    "collapsed": true
   },
   "outputs": [],
   "source": [
    "add = pd.DataFrame({'link' : data_rest_type[0], 'name' : data_rest_type[1], 'address' : data_rest_type[2]} )"
   ]
  },
  {
   "cell_type": "code",
   "execution_count": null,
   "metadata": {
    "collapsed": true
   },
   "outputs": [],
   "source": [
    "filename = city + type_ + \"_.csv\"\n",
    "add.to_csv(filename, index=False, columns = ['link', 'address', 'name'])"
   ]
  },
  {
   "cell_type": "code",
   "execution_count": null,
   "metadata": {
    "collapsed": true
   },
   "outputs": [],
   "source": [
    "filename"
   ]
  },
  {
   "cell_type": "markdown",
   "metadata": {},
   "source": [
    "#### 3rd Category"
   ]
  },
  {
   "cell_type": "code",
   "execution_count": null,
   "metadata": {
    "collapsed": true
   },
   "outputs": [],
   "source": [
    "type_ = (\"_\".join(rest_types[3].lower().split(' ')))\n",
    "print(type_)"
   ]
  },
  {
   "cell_type": "code",
   "execution_count": null,
   "metadata": {
    "collapsed": true
   },
   "outputs": [],
   "source": [
    "wd = webdriver.Chrome(chrome_path)\n",
    "wd.get(url)\n",
    "wd.switch_to_window(wd.window_handles[0])\n",
    "buttons = rest_types_buttons()\n",
    "buttons[3].click()\n",
    "wd.switch_to_window(wd.window_handles[0])"
   ]
  },
  {
   "cell_type": "code",
   "execution_count": null,
   "metadata": {
    "collapsed": true
   },
   "outputs": [],
   "source": [
    "data_rest_type = get_data_rest_type(type_)"
   ]
  },
  {
   "cell_type": "code",
   "execution_count": null,
   "metadata": {
    "collapsed": true
   },
   "outputs": [],
   "source": [
    "add = pd.DataFrame({'link' : data_rest_type[0], 'name' : data_rest_type[1], 'address' : data_rest_type[2]} )"
   ]
  },
  {
   "cell_type": "code",
   "execution_count": null,
   "metadata": {
    "collapsed": true
   },
   "outputs": [],
   "source": [
    "filename = city + type_ + \"_.csv\"\n",
    "add.to_csv(filename, index=False, columns = ['link', 'address', 'name'])"
   ]
  },
  {
   "cell_type": "code",
   "execution_count": null,
   "metadata": {
    "collapsed": true
   },
   "outputs": [],
   "source": [
    "filename"
   ]
  },
  {
   "cell_type": "markdown",
   "metadata": {},
   "source": [
    "#### 4th Category"
   ]
  },
  {
   "cell_type": "code",
   "execution_count": null,
   "metadata": {
    "collapsed": true
   },
   "outputs": [],
   "source": [
    "type_ = (\"_\".join(rest_types[4].lower().split(' ')))\n",
    "print(type_)"
   ]
  },
  {
   "cell_type": "code",
   "execution_count": null,
   "metadata": {
    "collapsed": true
   },
   "outputs": [],
   "source": [
    "wd = webdriver.Chrome(chrome_path)\n",
    "wd.get(url)\n",
    "wd.switch_to_window(wd.window_handles[0])\n",
    "buttons = rest_types_buttons()\n",
    "buttons[4].click()\n",
    "wd.switch_to_window(wd.window_handles[0])"
   ]
  },
  {
   "cell_type": "code",
   "execution_count": null,
   "metadata": {
    "collapsed": true
   },
   "outputs": [],
   "source": [
    "data_rest_type = get_data_rest_type(type_)"
   ]
  },
  {
   "cell_type": "code",
   "execution_count": null,
   "metadata": {
    "collapsed": true
   },
   "outputs": [],
   "source": [
    "add = pd.DataFrame({'link' : data_rest_type[0], 'name' : data_rest_type[1], 'address' : data_rest_type[2]} )"
   ]
  },
  {
   "cell_type": "code",
   "execution_count": null,
   "metadata": {
    "collapsed": true
   },
   "outputs": [],
   "source": [
    "filename = city + type_ + \"_.csv\"\n",
    "add.to_csv(filename, index=False, columns = ['link', 'address', 'name'])"
   ]
  },
  {
   "cell_type": "code",
   "execution_count": null,
   "metadata": {
    "collapsed": true
   },
   "outputs": [],
   "source": [
    "filename"
   ]
  },
  {
   "cell_type": "markdown",
   "metadata": {},
   "source": [
    "#### 5th Category"
   ]
  },
  {
   "cell_type": "code",
   "execution_count": null,
   "metadata": {
    "collapsed": true
   },
   "outputs": [],
   "source": [
    "type_ = (\"_\".join(rest_types[5].lower().split(' ')))\n",
    "print(type_)"
   ]
  },
  {
   "cell_type": "code",
   "execution_count": null,
   "metadata": {
    "collapsed": true
   },
   "outputs": [],
   "source": [
    "wd = webdriver.Chrome(chrome_path)\n",
    "wd.get(url)\n",
    "wd.switch_to_window(wd.window_handles[0])\n",
    "buttons = rest_types_buttons()\n",
    "buttons[5].click()\n",
    "wd.switch_to_window(wd.window_handles[0])"
   ]
  },
  {
   "cell_type": "code",
   "execution_count": null,
   "metadata": {
    "collapsed": true
   },
   "outputs": [],
   "source": [
    "data_rest_type = get_data_rest_type(type_)"
   ]
  },
  {
   "cell_type": "code",
   "execution_count": null,
   "metadata": {
    "collapsed": true
   },
   "outputs": [],
   "source": [
    "add = pd.DataFrame({'link' : data_rest_type[0], 'name' : data_rest_type[1], 'address' : data_rest_type[2]} )"
   ]
  },
  {
   "cell_type": "code",
   "execution_count": null,
   "metadata": {
    "collapsed": true
   },
   "outputs": [],
   "source": [
    "filename = city + type_ + \"_.csv\"\n",
    "add.to_csv(filename, index=False, columns = ['link', 'address', 'name'])"
   ]
  },
  {
   "cell_type": "code",
   "execution_count": null,
   "metadata": {
    "collapsed": true
   },
   "outputs": [],
   "source": [
    "filename"
   ]
  },
  {
   "cell_type": "markdown",
   "metadata": {},
   "source": [
    "#### 6th Category"
   ]
  },
  {
   "cell_type": "code",
   "execution_count": null,
   "metadata": {
    "collapsed": true
   },
   "outputs": [],
   "source": [
    "type_ = (\"_\".join(rest_types[6].lower().split(' ')))\n",
    "print(type_)"
   ]
  },
  {
   "cell_type": "code",
   "execution_count": null,
   "metadata": {
    "collapsed": true
   },
   "outputs": [],
   "source": [
    "wd = webdriver.Chrome(chrome_path)\n",
    "wd.get(url)\n",
    "wd.switch_to_window(wd.window_handles[0])\n",
    "buttons = rest_types_buttons()\n",
    "buttons[6].click()\n",
    "wd.switch_to_window(wd.window_handles[0])"
   ]
  },
  {
   "cell_type": "code",
   "execution_count": null,
   "metadata": {
    "collapsed": true
   },
   "outputs": [],
   "source": [
    "data_rest_type = get_data_rest_type(type_)"
   ]
  },
  {
   "cell_type": "code",
   "execution_count": null,
   "metadata": {
    "collapsed": true
   },
   "outputs": [],
   "source": [
    "add = pd.DataFrame({'link' : data_rest_type[0], 'name' : data_rest_type[1], 'address' : data_rest_type[2]} )"
   ]
  },
  {
   "cell_type": "code",
   "execution_count": null,
   "metadata": {
    "collapsed": true
   },
   "outputs": [],
   "source": [
    "filename = city + type_ + \"_.csv\"\n",
    "add.to_csv(filename, index=False, columns = ['link', 'address', 'name'])"
   ]
  },
  {
   "cell_type": "code",
   "execution_count": null,
   "metadata": {
    "collapsed": true
   },
   "outputs": [],
   "source": [
    "filename"
   ]
  }
 ],
 "metadata": {
  "kernelspec": {
   "display_name": "Python 3",
   "language": "python",
   "name": "python3"
  },
  "language_info": {
   "codemirror_mode": {
    "name": "ipython",
    "version": 3
   },
   "file_extension": ".py",
   "mimetype": "text/x-python",
   "name": "python",
   "nbconvert_exporter": "python",
   "pygments_lexer": "ipython3",
   "version": "3.6.2"
  }
 },
 "nbformat": 4,
 "nbformat_minor": 2
}
